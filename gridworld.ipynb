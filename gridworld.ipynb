{
 "cells": [
  {
   "cell_type": "markdown",
   "metadata": {},
   "source": [
    "# GridWorld\n",
    "## A Project Demonstrating the Techniques of Dynamic Programming\n",
    "\n",
    "The gridworld is a two dimensional grid upon which the agent lives.  \n",
    "At each timestep, the agent must travel to any of the cells surrounding the one it currently resides in.  \n",
    "Depending on the cell the agent moves to, it recieves a numerical reward, which it tries to maximise.  \n",
    "\n",
    "---"
   ]
  },
  {
   "cell_type": "markdown",
   "metadata": {},
   "source": [
    "We start off by importing some packages and defining the environment - that is, the grid -  itself."
   ]
  },
  {
   "cell_type": "code",
   "execution_count": 1,
   "metadata": {},
   "outputs": [],
   "source": [
    "from enum import Enum\n",
    "import numpy as np\n",
    "import matplotlib.pyplot as plt\n",
    "\n",
    "eps = 1e-9\n",
    "\n",
    "class Action(Enum):\n",
    "    N, S, E, W = (10 ** i for i in range(4))\n",
    "\n",
    "\n",
    "class GridWorld:\n",
    "    \"\"\" A test reinforcement learning environment where\n",
    "        the agent is to learn to navigate around a grid\n",
    "        with rewards determined by the tile it lands on\n",
    "    \"\"\"\n",
    "\n",
    "    def __init__(self, rows, cols):\n",
    "        self.rows = rows\n",
    "        self.cols = cols\n",
    "        self.state = (0, 0)\n",
    "\n",
    "        self.stateReward = np.zeros((rows, cols), np.float64)\n",
    "        posState = (np.random.randint(0, rows), np.random.randint(0, cols))\n",
    "        negState = (np.random.randint(0, rows), np.random.randint(0, cols))\n",
    "        while posState == negState:\n",
    "            negState = (np.random.randint(0, rows), np.random.randint(0, cols))\n",
    "        self.stateReward[posState] = 1\n",
    "        self.stateReward[negState] = -1\n",
    "\n",
    "    def afterAction(self, state, action):\n",
    "        \"\"\" Returns the state that would be transitioned to\n",
    "            after given action would be executed from the\n",
    "            given position\n",
    "        \"\"\"\n",
    "\n",
    "        if action == Action.N:\n",
    "            return (max(0, state[0] - 1), state[1])\n",
    "        elif action == Action.S:\n",
    "            return (min(self.rows - 1, state[0] + 1), state[1])\n",
    "        elif action == Action.E:\n",
    "            return (state[0], min(self.cols - 1, state[1] + 1))\n",
    "        elif action == Action.W:\n",
    "            return (state[0], max(0, state[1] - 1))\n",
    "        else:\n",
    "            print('Invalid action.')\n",
    "            return state\n",
    "\n",
    "    def doAction(self, action):\n",
    "        \"\"\" Changes position as per state transition kernel\n",
    "            and returns numerical reward\n",
    "        \"\"\"\n",
    "\n",
    "        self.state = self.afterAction(self.state, action)\n",
    "        return self.stateReward[self.state]"
   ]
  },
  {
   "cell_type": "markdown",
   "metadata": {},
   "source": [
    "Once the environment's definition is ready, we can initialize it with some previously chosen parameters.  \n",
    "We also set up whatever hyperparameters our learning algorithm uses.  "
   ]
  },
  {
   "cell_type": "code",
   "execution_count": 2,
   "metadata": {},
   "outputs": [
    {
     "name": "stdout",
     "output_type": "stream",
     "text": [
      "[[ 0.  0.  0.  0.  0.]\n",
      " [ 0.  0.  0.  0.  0.]\n",
      " [ 0.  0.  0.  1.  0.]\n",
      " [ 0.  0.  0.  0.  0.]\n",
      " [ 0.  0. -1.  0.  0.]]\n"
     ]
    }
   ],
   "source": [
    "rows, cols, gamma = 5, 5, 0.5\n",
    "gw = GridWorld(rows, cols)\n",
    "print(gw.stateReward)  # The rewards at different cells - the agent is not privy to this information."
   ]
  },
  {
   "cell_type": "markdown",
   "metadata": {},
   "source": [
    "### Policy Evaluation and Iteration.\n",
    "\n",
    "We can now perform policy evaluation and iteration. Policy evaluation aims to find out how good our policy is.  \n",
    "We know a policy is better than another when it has a higher v_pi(s) for all s. In accordance with this,  \n",
    "policy evaluation finds v_pi iteratively, getting a closer estimate with each iteration using the Bellman equations.  \n",
    "Once we have v_pi, we can easily get a new, improved policy by acting greedily upon it. In turn we can evaluate  \n",
    "this new policy and repeat. Eventually, we arrive at the optimal policy. This is called policy iteration."
   ]
  },
  {
   "cell_type": "code",
   "execution_count": 3,
   "metadata": {},
   "outputs": [],
   "source": [
    "policyValues = np.zeros((rows, cols), np.float64)  # The policy - information the agent uses to decide what to do.\n",
    "\n",
    "# This outer loop does policy iteration - once the inner loop finds v_pi it updates the policy to act greedily upon it.\n",
    "# This guarantees improvement until we achieve an optimal policy.\n",
    "while True:\n",
    "    values = np.zeros((rows, cols), np.float64)\n",
    "\n",
    "    # This inner loop does policy evaluation - when the control breaks out updatedValues contains v_pi.\n",
    "    while True:\n",
    "        updatedValues = np.zeros((rows, cols), np.float64)\n",
    "\n",
    "        it = np.nditer(updatedValues, flags=['multi_index'], op_flags=['writeonly'])\n",
    "        for updatedValue in it:\n",
    "            possibleNextStates = [gw.afterAction(it.multi_index, action) for _, action in Action.__members__.items()]\n",
    "            maxValue = max([policyValues[possibleNextState] for possibleNextState in possibleNextStates])\n",
    "            nextStates = list(filter(lambda s: np.abs(policyValues[s] - maxValue) <= eps, possibleNextStates))\n",
    "\n",
    "            for nextState in nextStates:\n",
    "                updatedValue += values[nextState]\n",
    "            updatedValue *= gamma / len(nextStates)\n",
    "            updatedValue += gw.stateReward[it.multi_index]\n",
    "\n",
    "        if (np.abs(values - updatedValues) <= eps).all():  # This becomes True when the values have converged.\n",
    "            break\n",
    "\n",
    "        values = np.copy(updatedValues)\n",
    "\n",
    "    if (np.abs(policyValues - updatedValues) <= eps).all():  # This becomes True when the policy has converged.\n",
    "        break\n",
    "\n",
    "    policyValues = np.copy(updatedValues)"
   ]
  },
  {
   "cell_type": "markdown",
   "metadata": {},
   "source": [
    "We can now visualise the resulting values."
   ]
  },
  {
   "cell_type": "code",
   "execution_count": 4,
   "metadata": {},
   "outputs": [
    {
     "data": {
      "image/png": "[encoded data removed]",
      "text/plain": [
       "<Figure size 640x480 with 1 Axes>"
      ]
     },
     "metadata": {},
     "output_type": "display_data"
    }
   ],
   "source": [
    "cthresh = np.max(policyValues)\n",
    "plt.imshow(values, cmap='coolwarm', vmin=-cthresh, vmax=cthresh)  # A visualization of how good the agent thinks each cell is.\n",
    "plt.show()"
   ]
  },
  {
   "cell_type": "markdown",
   "metadata": {},
   "source": [
    "And also visualise the policy."
   ]
  },
  {
   "cell_type": "code",
   "execution_count": 5,
   "metadata": {},
   "outputs": [
    {
     "name": "stdout",
     "output_type": "stream",
     "text": [
      "[['↘' '↘' '↘' '↓' '↙']\n",
      " ['↘' '↘' '↘' '↓' '↙']\n",
      " ['→' '→' '→' '✣' '←']\n",
      " ['↗' '↗' '↗' '↑' '↖']\n",
      " ['↗' '↑' '↗' '↑' '↖']]\n"
     ]
    }
   ],
   "source": [
    "policy = np.zeros((rows, cols), '<U1')\n",
    "it = np.nditer(policyValues, flags=['multi_index'], op_flags=['writeonly'])\n",
    "for _ in it:\n",
    "    possibleNextStates = [gw.afterAction(it.multi_index, action) for _, action in Action.__members__.items()]\n",
    "    maxValue = max([policyValues[possibleNextState] for possibleNextState in possibleNextStates])\n",
    "\n",
    "    actionCode = 0\n",
    "    for _, action in Action.__members__.items():\n",
    "        if np.abs(policyValues[gw.afterAction(it.multi_index, action)] - maxValue) <= eps:\n",
    "            actionCode += action._value_\n",
    "\n",
    "    if actionCode == 1:\n",
    "        policy[it.multi_index] = '↑'\n",
    "    elif actionCode == 10:\n",
    "        policy[it.multi_index] = '↓'\n",
    "    elif actionCode == 100:\n",
    "        policy[it.multi_index] = '→'\n",
    "    elif actionCode == 1000:\n",
    "        policy[it.multi_index] = '←'\n",
    "    elif actionCode == 11:\n",
    "        policy[it.multi_index] = '↕'\n",
    "    elif actionCode == 1100:\n",
    "        policy[it.multi_index] = '↔'\n",
    "    elif actionCode == 1001:\n",
    "        policy[it.multi_index] = '↖'     \n",
    "    elif actionCode == 101:\n",
    "        policy[it.multi_index] = '↗'     \n",
    "    elif actionCode == 110:\n",
    "        policy[it.multi_index] = '↘'     \n",
    "    elif actionCode == 1010:\n",
    "        policy[it.multi_index] = '↙'\n",
    "    elif actionCode == 1111:\n",
    "        policy[it.multi_index] = '✣'   \n",
    "    else:\n",
    "        policy[it.multi_index] = '?'\n",
    "\n",
    "print(policy)"
   ]
  },
  {
   "cell_type": "markdown",
   "metadata": {},
   "source": [
    "### Value Iteration\n",
    "\n",
    "Policy iteration involved waiting for policy evaluation to converge over many iterations, then iterating  \n",
    "to the next policy. In value iteration, we only do one iteration of policy evaluation before moving on to\n",
    "the next policy. This still works as even a single iteration gives us an improvement over the previous  \n",
    "and can be faster than policy iteration since it can take may iteration to get from a reasonably good\n",
    "estimate of v_pi to the optimal one."
   ]
  },
  {
   "cell_type": "code",
   "execution_count": 6,
   "metadata": {},
   "outputs": [],
   "source": [
    "values = np.zeros((rows, cols), np.float64)\n",
    "\n",
    "# Each iteration of this loop improves the policy a little.\n",
    "while True:\n",
    "    updatedValues = np.zeros((rows, cols), np.float64)\n",
    "\n",
    "    it = np.nditer(updatedValues, flags=['multi_index'], op_flags=['writeonly'])\n",
    "    for updatedValue in it:\n",
    "        possibleNextStates = [gw.afterAction(it.multi_index, action) for _, action in Action.__members__.items()]\n",
    "        maxValue = max([values[possibleNextState] for possibleNextState in possibleNextStates])\n",
    "        nextStates = list(filter(lambda s: np.abs(values[s] - maxValue) <= eps, possibleNextStates))\n",
    "\n",
    "        for nextState in nextStates:\n",
    "            updatedValue += values[nextState]\n",
    "        updatedValue *= gamma / len(nextStates)\n",
    "        updatedValue += gw.stateReward[it.multi_index]\n",
    "\n",
    "    if (np.abs(values - updatedValues) <= eps).all():  # This becomes True when the policy has converged.\n",
    "        break\n",
    "\n",
    "    values = np.copy(updatedValues)"
   ]
  },
  {
   "cell_type": "markdown",
   "metadata": {},
   "source": [
    "As with policy iteration, we will now visualise the values."
   ]
  },
  {
   "cell_type": "code",
   "execution_count": 7,
   "metadata": {},
   "outputs": [
    {
     "data": {
      "image/png": "[encoded data removed]",
      "text/plain": [
       "<Figure size 640x480 with 1 Axes>"
      ]
     },
     "metadata": {},
     "output_type": "display_data"
    }
   ],
   "source": [
    "cthresh = np.max(values)\n",
    "plt.imshow(values, cmap='coolwarm', vmin=-cthresh, vmax=cthresh)\n",
    "plt.show()"
   ]
  },
  {
   "cell_type": "markdown",
   "metadata": {},
   "source": [
    "Again, we also visualize the policy."
   ]
  },
  {
   "cell_type": "code",
   "execution_count": 8,
   "metadata": {},
   "outputs": [
    {
     "name": "stdout",
     "output_type": "stream",
     "text": [
      "[['↘' '↘' '↘' '↓' '↙']\n",
      " ['↘' '↘' '↘' '↓' '↙']\n",
      " ['→' '→' '→' '✣' '←']\n",
      " ['↗' '↗' '↗' '↑' '↖']\n",
      " ['↗' '↑' '↗' '↑' '↖']]\n"
     ]
    }
   ],
   "source": [
    "policy = np.zeros((rows, cols), '<U1')\n",
    "it = np.nditer(values, flags=['multi_index'], op_flags=['writeonly'])\n",
    "for _ in it:\n",
    "    possibleNextStates = [gw.afterAction(it.multi_index, action) for _, action in Action.__members__.items()]\n",
    "    maxValue = max([values[possibleNextState] for possibleNextState in possibleNextStates])\n",
    "\n",
    "    actionCode = 0\n",
    "    for _, action in Action.__members__.items():\n",
    "        if np.abs(values[gw.afterAction(it.multi_index, action)] - maxValue) <= eps:\n",
    "            actionCode += action._value_\n",
    "\n",
    "    if actionCode == 1:\n",
    "        policy[it.multi_index] = '↑'\n",
    "    elif actionCode == 10:\n",
    "        policy[it.multi_index] = '↓'\n",
    "    elif actionCode == 100:\n",
    "        policy[it.multi_index] = '→'\n",
    "    elif actionCode == 1000:\n",
    "        policy[it.multi_index] = '←'\n",
    "    elif actionCode == 11:\n",
    "        policy[it.multi_index] = '↕'\n",
    "    elif actionCode == 1100:\n",
    "        policy[it.multi_index] = '↔'\n",
    "    elif actionCode == 1001:\n",
    "        policy[it.multi_index] = '↖'     \n",
    "    elif actionCode == 101:\n",
    "        policy[it.multi_index] = '↗'     \n",
    "    elif actionCode == 110:\n",
    "        policy[it.multi_index] = '↘'     \n",
    "    elif actionCode == 1010:\n",
    "        policy[it.multi_index] = '↙'\n",
    "    elif actionCode == 1111:\n",
    "        policy[it.multi_index] = '✣'   \n",
    "    else:\n",
    "        policy[it.multi_index] = '?'\n",
    "\n",
    "print(policy)"
   ]
  },
  {
   "cell_type": "markdown",
   "metadata": {},
   "source": [
    "### END"
   ]
  }
 ],
 "metadata": {
  "kernelspec": {
   "display_name": "Python 3.10.4 64-bit",
   "language": "python",
   "name": "python3"
  },
  "language_info": {
   "codemirror_mode": {
    "name": "ipython",
    "version": 3
   },
   "file_extension": ".py",
   "mimetype": "text/x-python",
   "name": "python",
   "nbconvert_exporter": "python",
   "pygments_lexer": "ipython3",
   "version": "3.10.4"
  },
  "orig_nbformat": 4,
  "vscode": {
   "interpreter": {
    "hash": "31f2aee4e71d21fbe5cf8b01ff0e069b9275f58929596ceb00d14d90e3e16cd6"
   }
  }
 },
 "nbformat": 4,
 "nbformat_minor": 2
}
