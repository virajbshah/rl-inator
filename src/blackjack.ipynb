{
 "cells": [
  {
   "cell_type": "markdown",
   "metadata": {},
   "source": [
    "# BlackJack\n",
    "## A Project Demonstrating the use of Monte Carlo Methods in Reinforcement Learning\n",
    "\n",
    "BlackJack is a classic casino game played against a dealer. Here, we use reinforcement learning to  \n",
    "train an agent to play the game with the goal of maximising winrate. OpenAI gym is used to set up\n",
    "the environment and interact with it.\n",
    "\n",
    "---"
   ]
  },
  {
   "cell_type": "markdown",
   "metadata": {},
   "source": [
    "We start off with the usual imports and setting up the environment using the OpenAI gym API."
   ]
  },
  {
   "cell_type": "code",
   "execution_count": 1,
   "metadata": {},
   "outputs": [],
   "source": [
    "import gym\n",
    "import numpy as np\n",
    "import matplotlib.pyplot as plt\n",
    "\n",
    "import os\n",
    "base = os.path.join(os.getcwd(), r'../')\n",
    "\n",
    "eps = 1e-9\n",
    "\n",
    "env = gym.make('Blackjack-v1')"
   ]
  },
  {
   "cell_type": "markdown",
   "metadata": {},
   "source": [
    "Now we put in settings for how much training is to be done, and also set up some variables to  \n",
    "help look at our progress while training, once it is complete."
   ]
  },
  {
   "cell_type": "code",
   "execution_count": 2,
   "metadata": {},
   "outputs": [],
   "source": [
    "iters = 2 ** 6\n",
    "games = 2 ** 8\n",
    "\n",
    "x = np.arange(games)\n",
    "y = np.zeros(games)"
   ]
  },
  {
   "cell_type": "markdown",
   "metadata": {},
   "source": [
    "Now to the actual learning. Monte Carlo methods heavily involve random sampling, so to accurately  \n",
    "judge our results, we will average them over multiple iterations."
   ]
  },
  {
   "cell_type": "code",
   "execution_count": 3,
   "metadata": {},
   "outputs": [
    {
     "name": "stdout",
     "output_type": "stream",
     "text": [
      "Iteration 64 / 64, Game 256 / 256                                                                                                                                \r"
     ]
    }
   ],
   "source": [
    "observation, info = env.reset()\n",
    "observation = tuple(int(e) for e in observation)\n",
    "\n",
    "for iter in range(iters):\n",
    "    qualities = np.ones((32, 11, 2, 2), np.float64)\n",
    "    counts = np.zeros((32, 11, 2, 2), np.int32)\n",
    "    visited = []\n",
    "\n",
    "    game = 0\n",
    "    while game < games:\n",
    "        hitChance = np.exp(qualities[(*observation, 1)]) / np.sum(np.exp(qualities[(*observation, slice(None))]))\n",
    "        action = 1 if np.random.rand() < hitChance else 0\n",
    "\n",
    "        prevObservation = observation\n",
    "        observation, reward, terminated, truncated, info = env.step(action)\n",
    "        observation = tuple(int(e) for e in observation)\n",
    "\n",
    "        visited.append((*prevObservation, action))\n",
    "\n",
    "        if terminated or truncated:\n",
    "            observation, info = env.reset()\n",
    "            observation = tuple(int(e) for e in observation)\n",
    "            y[game] += reward\n",
    "\n",
    "            for stateAction in visited:\n",
    "                qualities[stateAction] = (qualities[stateAction] * counts[stateAction] + reward) / (counts[stateAction] + 1)\n",
    "                counts[stateAction] += 1\n",
    "            visited = []\n",
    "\n",
    "            print(f'Iteration {iter + 1} / {iters}, Game {game + 1} / {games}', end=' ' * 128 + '\\r')\n",
    "            game += 1\n",
    "\n",
    "y /= iters"
   ]
  },
  {
   "cell_type": "markdown",
   "metadata": {},
   "source": [
    "Our agent is done training! Although it didn't spend much time doing it, we should observe  \n",
    "a decent improvement over the random gameplay it started with. Let's take a look."
   ]
  },
  {
   "cell_type": "code",
   "execution_count": 4,
   "metadata": {},
   "outputs": [
    {
     "data": {
      "image/png": "[encoded data removed]",
      "text/plain": [
       "<Figure size 640x480 with 1 Axes>"
      ]
     },
     "metadata": {},
     "output_type": "display_data"
    }
   ],
   "source": [
    "plt.scatter(x, y)\n",
    "a, b = np.polyfit(x, y, 1)\n",
    "plt.plot(x, a * x + b)\n",
    "plt.show()"
   ]
  },
  {
   "cell_type": "markdown",
   "metadata": {},
   "source": [
    "It definitely improved, but how good is it really? We can find out by doing a before-after comparison.  \n",
    "Here is the before:"
   ]
  },
  {
   "cell_type": "code",
   "execution_count": 5,
   "metadata": {},
   "outputs": [
    {
     "name": "stdout",
     "output_type": "stream",
     "text": [
      "Wins:   27.93%                                                                                                                                  \n",
      "Losses: 67.68%\n",
      "Draws:  4.39%\n"
     ]
    }
   ],
   "source": [
    "wins, losses, draws = 0, 0, 0\n",
    "\n",
    "observation, info = env.reset()\n",
    "observation = tuple(int(e) for e in observation)\n",
    "\n",
    "games, game = 2 ** 10, 0\n",
    "while game < games:\n",
    "    observation, reward, terminated, truncated, info = env.step(env.action_space.sample())\n",
    "    observation = tuple(int(e) for e in observation)\n",
    "\n",
    "    if terminated or truncated:\n",
    "        observation, info = env.reset()\n",
    "        observation = tuple(int(e) for e in observation)\n",
    "\n",
    "        if reward == 1: wins += 1\n",
    "        elif reward == -1: losses += 1\n",
    "        else: draws += 1\n",
    "\n",
    "        print(f'Game {game + 1} / {games}', end=' ' * 128 + '\\r')\n",
    "        game += 1\n",
    "\n",
    "print(end=' ' * 128 + '\\r')\n",
    "print(f'Wins:   {wins   / games * 100:.2f}%')\n",
    "print(f'Losses: {losses / games * 100:.2f}%')\n",
    "print(f'Draws:  {draws  / games * 100:.2f}%')"
   ]
  },
  {
   "cell_type": "markdown",
   "metadata": {},
   "source": [
    "And here is the after."
   ]
  },
  {
   "cell_type": "code",
   "execution_count": 6,
   "metadata": {},
   "outputs": [
    {
     "name": "stdout",
     "output_type": "stream",
     "text": [
      "Wins:   42.77%                                                                                                                                  \n",
      "Losses: 49.71%\n",
      "Draws:  7.52%\n"
     ]
    }
   ],
   "source": [
    "wins, losses, draws = 0, 0, 0\n",
    "\n",
    "qualities = np.load(os.path.join(base, r'saves/blackjack_q.npy'))\n",
    "\n",
    "observation, info = env.reset()\n",
    "observation = tuple(int(e) for e in observation)\n",
    "\n",
    "games, game = 2 ** 10, 0\n",
    "while game < games:\n",
    "    maxQuality = np.max(qualities[(*observation, slice(None))])\n",
    "\n",
    "    possibleActions = []\n",
    "    for action in range(2):\n",
    "        if np.abs(qualities[(*observation, action)] - maxQuality) <= eps:\n",
    "            possibleActions.append(action)\n",
    "\n",
    "    action = np.random.choice(possibleActions)\n",
    "\n",
    "    observation, reward, terminated, truncated, info = env.step(action)\n",
    "    observation = tuple(int(e) for e in observation)\n",
    "\n",
    "    if terminated or truncated:\n",
    "        observation, info = env.reset()\n",
    "        observation = tuple(int(e) for e in observation)\n",
    "\n",
    "        if reward == 1: wins += 1\n",
    "        elif reward == -1: losses += 1\n",
    "        else: draws += 1\n",
    "\n",
    "        print(f'Game {game + 1} / {games}', end=' ' * 128 + '\\r')\n",
    "        game += 1\n",
    "\n",
    "print(end=' ' * 128 + '\\r')\n",
    "print(f'Wins:   {wins   / games * 100:.2f}%')\n",
    "print(f'Losses: {losses / games * 100:.2f}%')\n",
    "print(f'Draws:  {draws  / games * 100:.2f}%')"
   ]
  },
  {
   "cell_type": "markdown",
   "metadata": {},
   "source": [
    "Here is some gameplay from the agent:"
   ]
  },
  {
   "cell_type": "code",
   "execution_count": 7,
   "metadata": {},
   "outputs": [
    {
     "name": "stdout",
     "output_type": "stream",
     "text": [
      "Win :)                                                                                                                                 \r"
     ]
    }
   ],
   "source": [
    "import time\n",
    "\n",
    "env = gym.make('Blackjack-v1', render_mode='human')\n",
    "\n",
    "observation, info = env.reset()\n",
    "observation = tuple(int(e) for e in observation)\n",
    "\n",
    "games, game = 2 ** 3, 0\n",
    "while game < games:\n",
    "    maxQuality = np.max(qualities[(*observation, slice(None))])\n",
    "\n",
    "    possibleActions = []\n",
    "    for action in range(2):\n",
    "        if np.abs(qualities[(*observation, action)] - maxQuality) <= eps:\n",
    "            possibleActions.append(action)\n",
    "\n",
    "    action = np.random.choice(possibleActions)\n",
    "\n",
    "    observation, reward, terminated, truncated, info = env.step(action)\n",
    "    observation = tuple(int(e) for e in observation)\n",
    "    time.sleep(4)\n",
    "\n",
    "    if terminated or truncated:\n",
    "        observation, info = env.reset()\n",
    "        observation = tuple(int(e) for e in observation)\n",
    "\n",
    "        if reward == 1: print('Win :)', end=' ' * 128 + '\\r')\n",
    "        elif reward == -1: print('Loss :(', end=' ' * 128 + '\\r')\n",
    "        else: print('Draw :|', end=' ' * 128 + '\\r')\n",
    "\n",
    "        game += 1"
   ]
  },
  {
   "cell_type": "code",
   "execution_count": 8,
   "metadata": {},
   "outputs": [],
   "source": [
    "env.close()"
   ]
  },
  {
   "cell_type": "markdown",
   "metadata": {},
   "source": [
    "---"
   ]
  }
 ],
 "metadata": {
  "kernelspec": {
   "display_name": "Python 3.10.4 ('rl-inator')",
   "language": "python",
   "name": "python3"
  },
  "language_info": {
   "codemirror_mode": {
    "name": "ipython",
    "version": 3
   },
   "file_extension": ".py",
   "mimetype": "text/x-python",
   "name": "python",
   "nbconvert_exporter": "python",
   "pygments_lexer": "ipython3",
   "version": "3.10.4"
  },
  "orig_nbformat": 4,
  "vscode": {
   "interpreter": {
    "hash": "efaa9fc3898a735079d6b19193e1e40c0f8a958f852e55d931e30f7e043e85c6"
   }
  }
 },
 "nbformat": 4,
 "nbformat_minor": 2
}
